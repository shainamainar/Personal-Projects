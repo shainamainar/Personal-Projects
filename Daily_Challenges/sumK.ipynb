{
 "cells": [
  {
   "cell_type": "code",
   "execution_count": 1,
   "metadata": {},
   "outputs": [
    {
     "name": "stdout",
     "output_type": "stream",
     "text": [
      "25\n",
      "13\n",
      "17\n",
      "True\n"
     ]
    }
   ],
   "source": [
    "#given a list of nums and a num k\n",
    "# return whether any 2 nums add up to k\n",
    "\n",
    "def sum(nums, k):\n",
    "    b = False\n",
    "    for i in range(len(nums) - 1):\n",
    "        for j in range(len(nums)):\n",
    "            if(i != j):\n",
    "                print(nums[i] + nums[j])\n",
    "                if (int(nums[i] + nums[j])) == k:\n",
    "                    return True\n",
    "                else:\n",
    "                    b = False\n",
    "        \n",
    "    return b\n",
    "    \n",
    "def main():\n",
    "    arr = [10, 15, 3, 7]\n",
    "    k = 17\n",
    "    print(sum(arr, k))\n",
    "\n",
    "main()\n",
    "\n",
    "\n"
   ]
  },
  {
   "cell_type": "code",
   "execution_count": null,
   "metadata": {},
   "outputs": [],
   "source": []
  }
 ],
 "metadata": {
  "kernelspec": {
   "display_name": "Python 3",
   "language": "python",
   "name": "python3"
  },
  "language_info": {
   "codemirror_mode": {
    "name": "ipython",
    "version": 3
   },
   "file_extension": ".py",
   "mimetype": "text/x-python",
   "name": "python",
   "nbconvert_exporter": "python",
   "pygments_lexer": "ipython3",
   "version": "3.7.3"
  }
 },
 "nbformat": 4,
 "nbformat_minor": 2
}
